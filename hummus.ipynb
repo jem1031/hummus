{
 "cells": [
  {
   "cell_type": "markdown",
   "metadata": {},
   "source": [
    "Find this notebook on github: https://github.com/jem1031/hummus"
   ]
  },
  {
   "cell_type": "markdown",
   "metadata": {},
   "source": [
    "#Introduction\n",
    "\n",
    "At the April 2016 PyLadies meetup, we held a hummus tasting. There were 7 varieties of hummus, labeled \"A\" through \"G\". Each participant was instructed to try all the varieties and report their favorite and least favorite. Participants also reported their hummus experience level on the scale: \"first time\", \"tried before\", \"infrequent eater\", \"regular eater\".\n",
    "\n",
    "This Jupyter notebook lays out an analysis of the hummus tasting data in Python. The key questions to investigate are:\n",
    "* Is there a crowd favorite hummus?\n",
    "* Is there a crowd least favorite?\n",
    "* Do hummus preferences vary by experience level?"
   ]
  },
  {
   "cell_type": "code",
   "execution_count": null,
   "metadata": {
    "collapsed": true
   },
   "outputs": [],
   "source": [
    "# Import packages\n",
    "%matplotlib inline\n",
    "\n",
    "import numpy as np\n",
    "import pandas as pd\n",
    "import matplotlib.pyplot as plt"
   ]
  },
  {
   "cell_type": "markdown",
   "metadata": {},
   "source": [
    "#Data Preparation"
   ]
  },
  {
   "cell_type": "markdown",
   "metadata": {},
   "source": [
    "In this section, we import and examine the raw data. Then, we clean and transform it to prepare for analysis."
   ]
  },
  {
   "cell_type": "code",
   "execution_count": null,
   "metadata": {
    "collapsed": false
   },
   "outputs": [],
   "source": [
    "# Read in data\n",
    "# Note: assumes data file is in same directory as notebook\n",
    "raw_df = pd.read_csv('hummus.csv')"
   ]
  },
  {
   "cell_type": "code",
   "execution_count": null,
   "metadata": {
    "collapsed": false
   },
   "outputs": [],
   "source": [
    "# Print raw data\n",
    "raw_df"
   ]
  },
  {
   "cell_type": "code",
   "execution_count": null,
   "metadata": {
    "collapsed": false
   },
   "outputs": [],
   "source": [
    "# Remove two data points with notes\n",
    "filtered_df = raw_df[raw_df.notes.astype(str) == 'nan'].reset_index(drop=True)"
   ]
  },
  {
   "cell_type": "code",
   "execution_count": null,
   "metadata": {
    "collapsed": false
   },
   "outputs": [],
   "source": [
    "# Print distribution of experience levels\n",
    "filtered_df.hummus_experience_level.value_counts()"
   ]
  },
  {
   "cell_type": "code",
   "execution_count": null,
   "metadata": {
    "collapsed": false
   },
   "outputs": [],
   "source": [
    "# Combine \"tried before\" and \"infrequent eater\" groups\n",
    "transformed_df = filtered_df.copy()\n",
    "transformed_df['regular_flag'] = transformed_df.hummus_experience_level == 'regular eater'"
   ]
  },
  {
   "cell_type": "code",
   "execution_count": null,
   "metadata": {
    "collapsed": true
   },
   "outputs": [],
   "source": [
    "# Make hummus varieties categorical\n",
    "varieties = ['A', 'B', 'C', 'D', 'E', 'F', 'G']\n",
    "transformed_df['favorite'] = pd.Categorical(transformed_df['favorite'], categories = varieties)\n",
    "transformed_df['least_favorite'] = pd.Categorical(transformed_df['least_favorite'], categories = varieties)"
   ]
  },
  {
   "cell_type": "code",
   "execution_count": null,
   "metadata": {
    "collapsed": false
   },
   "outputs": [],
   "source": [
    "# Extract columns to keep\n",
    "df = transformed_df[['favorite', 'least_favorite', 'regular_flag']]"
   ]
  },
  {
   "cell_type": "code",
   "execution_count": null,
   "metadata": {
    "collapsed": false
   },
   "outputs": [],
   "source": [
    "# Print cleaned data\n",
    "df"
   ]
  },
  {
   "cell_type": "markdown",
   "metadata": {},
   "source": [
    "#Exploratory Data Analysis"
   ]
  },
  {
   "cell_type": "markdown",
   "metadata": {},
   "source": [
    "In this section, we visualize the hummus data using bar plots.\n",
    "\n",
    "From the plots we can observe:\n",
    "* Hummus A and F tied for most favorite votes (4 each).\n",
    "* Hummus G received the most least favorite votes (7), followed by hummus B (5).\n",
    "* All of hummus B's favorite votes (3) were from the non-regular hummus eaters.\n",
    "* All of hummus E's least favorite votes (3) were from non-regular hummus eaters.\n",
    "* All of hummus F's favorite votes (3) were from regular hummus eaters."
   ]
  },
  {
   "cell_type": "code",
   "execution_count": null,
   "metadata": {
    "collapsed": false
   },
   "outputs": [],
   "source": [
    "# Count favorite and least favorite votes\n",
    "favorite_cts = df.favorite.value_counts().sort_index()\n",
    "least_favorite_cts = df.least_favorite.value_counts().sort_index()"
   ]
  },
  {
   "cell_type": "code",
   "execution_count": null,
   "metadata": {
    "collapsed": false
   },
   "outputs": [],
   "source": [
    "# Print vote counts\n",
    "print favorite_cts\n",
    "print\n",
    "print least_favorite_cts"
   ]
  },
  {
   "cell_type": "code",
   "execution_count": null,
   "metadata": {
    "collapsed": true
   },
   "outputs": [],
   "source": [
    "# Split out counts for regular and non-regular hummus eaters\n",
    "reg_favorite_cts = df[df.regular_flag].favorite.value_counts().sort_index()\n",
    "reg_least_favorite_cts = df[df.regular_flag].least_favorite.value_counts().sort_index()\n",
    "nonreg_favorite_cts = df[np.logical_not(df.regular_flag)].favorite.value_counts().sort_index()\n",
    "nonreg_least_favorite_cts = df[np.logical_not(df.regular_flag)].least_favorite.value_counts().sort_index()"
   ]
  },
  {
   "cell_type": "code",
   "execution_count": null,
   "metadata": {
    "collapsed": true
   },
   "outputs": [],
   "source": [
    "# Function for side-by-side barplot of favorite votes and least favorite votes\n",
    "def votes_barplot(ax, favorite_cts, least_favorite_cts, ymax=None):\n",
    "    left_edge = np.arange(len(favorite_cts))\n",
    "    width = 0.35\n",
    "    \n",
    "    favorite_cts = list(favorite_cts)\n",
    "    least_favorite_cts = list(least_favorite_cts)\n",
    "    \n",
    "    fbars = ax.bar(left_edge, favorite_cts, width, color='blue')\n",
    "    lbars = ax.bar(left_edge + width, least_favorite_cts, width, color='orange')\n",
    "    \n",
    "    ax.set_ylabel('Votes')\n",
    "    if not ymax:\n",
    "        ymax = max(favorite_cts + least_favorite_cts) + 1\n",
    "    ax.set_ylim([0, ymax])\n",
    "    \n",
    "    ax.set_xlabel('Hummus Variety')\n",
    "    ax.set_xlim([min(left_edge) - width, max(left_edge) + 3*width])\n",
    "    ax.set_xticks(left_edge + width)\n",
    "    ax.set_xticklabels(varieties)\n",
    "    \n",
    "    ax.legend([fbars, lbars], [\"Favorite\", \"Least Favorite\"], loc=2)"
   ]
  },
  {
   "cell_type": "code",
   "execution_count": null,
   "metadata": {
    "collapsed": false
   },
   "outputs": [],
   "source": [
    "# Side-by-side barplot of votes\n",
    "fig = plt.figure(figsize=(8, 6))\n",
    "ax = fig.add_subplot(111)\n",
    "ax.set_title('Favorite and Least-Favorite Hummus Votes')\n",
    "votes_barplot(ax, favorite_cts, least_favorite_cts)\n",
    "plt.show()"
   ]
  },
  {
   "cell_type": "code",
   "execution_count": null,
   "metadata": {
    "collapsed": false
   },
   "outputs": [],
   "source": [
    "# Side-by-side barplot of votes, split out by hummus experience level\n",
    "ymax = max([reg_favorite_cts.max(), reg_least_favorite_cts.max(),\n",
    "            nonreg_favorite_cts.max(), nonreg_least_favorite_cts.max()]) + 1\n",
    "\n",
    "fig = plt.figure(figsize=(16, 6))\n",
    "ax1 = fig.add_subplot(121)\n",
    "ax1.set_title('Regular Hummus Eaters')\n",
    "votes_barplot(ax1, reg_favorite_cts, reg_least_favorite_cts, ymax)\n",
    "ax2 = fig.add_subplot(122)\n",
    "ax2.set_title('Non-Regular Hummus Eaters')\n",
    "votes_barplot(ax2, nonreg_favorite_cts, nonreg_least_favorite_cts, ymax)\n",
    "plt.show()"
   ]
  },
  {
   "cell_type": "markdown",
   "metadata": {
    "collapsed": false
   },
   "source": [
    "#Favorite/Least Favorite - Monte Carlo Simulation"
   ]
  },
  {
   "cell_type": "markdown",
   "metadata": {},
   "source": [
    "Now that we have a clean data set and have explored it visually, we can finally investigate the analysis questions. Let's start with the first two:\n",
    "* Is there a crowd favorite hummus?\n",
    "* Is there a crowd least favorite?\n",
    "\n",
    "To test these statistically, we need to translate them into questions about specific quantities in the data set. The crowd favorite hummus is the variety that received the highest number of favorite votes. But, is this maximum large enough to indicate a true crowd favorite, or could it have arisen by chance under random voting?\n",
    "\n",
    "Specifically, suppose each participant's favorite was equally like to be any of the 7 hummus varieties and there was no relationship between their vote and any of the others. (In technical terms, suppose participants' favorites were independent, identically distributed discrete uniform random variables.) If the maximum number of favorite votes is unusually high under these assumptions, there is evidence of a crowd favorite.\n",
    "\n",
    "To test this, use Monte Carlo simulation. Simulate data sets by drawing each vote from {A, B, C, D, E, F, G}. For each simulated data set, compute the maximum number of favorite votes. If the original maximum number of favorite votes is higher than the vast majority of simulated values, we can conclude that there is a crowd favorite.\n",
    "\n",
    "The same logic and technique can be applied to test for a crowd least favorite."
   ]
  },
  {
   "cell_type": "code",
   "execution_count": null,
   "metadata": {
    "collapsed": false
   },
   "outputs": [],
   "source": [
    "# Calculate observed max counts\n",
    "favorite_max_votes = np.max(favorite_cts)\n",
    "least_favorite_max_votes = np.max(least_favorite_cts)\n",
    "print 'Actual Max Votes'\n",
    "print 'favorite: ' + str(favorite_max_votes)\n",
    "print 'least favorite: ' + str(least_favorite_max_votes)"
   ]
  },
  {
   "cell_type": "code",
   "execution_count": null,
   "metadata": {
    "collapsed": true
   },
   "outputs": [],
   "source": [
    "# Run Monte Carlo simulations\n",
    "def monte_carlo_max_votes(varieties, n):\n",
    "    sample = np.random.choice(varieties, size=n, replace=True)  # sample n iid votes\n",
    "    sample = pd.Series(sample)\n",
    "    max_votes = np.max(sample.value_counts())\n",
    "    return max_votes\n",
    "\n",
    "n = df.shape[0]\n",
    "N = 10000\n",
    "sims = pd.Series([monte_carlo_max_votes(varieties, n) for _ in range(N)])"
   ]
  },
  {
   "cell_type": "code",
   "execution_count": null,
   "metadata": {
    "collapsed": false
   },
   "outputs": [],
   "source": [
    "# Plot histogram of simulated values\n",
    "sims_table = sims.value_counts().sort_index()\n",
    "left_edge = np.array(sims_table.index) - 0.5\n",
    "heights = sims_table\n",
    "ymax = heights.max() + N/10\n",
    "\n",
    "fig = plt.figure(figsize=(8, 6))\n",
    "ax = fig.add_subplot(111)\n",
    "ax.set_title('Histogram of Simulated Max Votes')\n",
    "ax.set_ylim([0, ymax])\n",
    "\n",
    "ax.bar(left_edge, heights, width=1, color='gray')\n",
    "ax.vlines(favorite_max_votes, 0, ymax, linewidth=3.0,\n",
    "          colors='blue', linestyles='dashed', label='favorite')\n",
    "ax.vlines(least_favorite_max_votes, 0, ymax, linewidth=3.0,\n",
    "          colors='orange', linestyles='dashdot', label='least favorite')\n",
    "ax.legend(title='Actual Max Votes')\n",
    "plt.show()"
   ]
  },
  {
   "cell_type": "code",
   "execution_count": null,
   "metadata": {
    "collapsed": false
   },
   "outputs": [],
   "source": [
    "# Calculate p-values\n",
    "print np.mean(sims >= favorite_max_votes)\n",
    "print np.mean(sims >= least_favorite_max_votes)"
   ]
  },
  {
   "cell_type": "markdown",
   "metadata": {},
   "source": [
    "###Favorite/Least Favorite Conclusions\n",
    "\n",
    "Crowd Favorite: Hummus varieties A and F tied for highest number of favorite votes at 4 votes each. Based on the Monte Carlo simulation, there is no evidence of a single crowd favorite hummus variety (p=0.99).\n",
    "\n",
    "Crowd Least Favorite: Hummus variety G had the highest number of least favorite votes at 7 votes. Based on the Monte Carlo simulation, there is mild evidence of a crowd least favorite (p=0.12). Note that this is not statistically significant, but with sample size of only 20, a small p-value is difficult to achieve."
   ]
  },
  {
   "cell_type": "markdown",
   "metadata": {},
   "source": [
    "#Hummus Experience Levels - Permutation Test"
   ]
  },
  {
   "cell_type": "markdown",
   "metadata": {},
   "source": [
    "Finally, let's investigate the third analysis question:\n",
    "* Do hummus preferences vary by experience level?\n",
    "\n",
    "Again, we need to translate this into a question about a specific quantity in the data set. One option is to look at the difference in number of favorite votes between the regular and non-regular hummus eaters. Is the maximum absolute difference large enough to be evidence of a difference in preferences, or could it have arisen by chance under random assignment to experience levels?\n",
    "\n",
    "Specifically, suppose there is no relationship between each participant's experience level and their favorite hummus. (In technical terms, experience level assignment and favorite are independent random variables). If the maximum absolute difference in favorite votes is unusually high under these assumptions, there is evidence of a difference between the groups.\n",
    "\n",
    "To test this, use approximate permutation testing. Simulate data sets by randomly permuting experience group assignments. For each simulated data set, compute the maximum absolute difference in favorite votes between the two groups. If the original absolute maximum is higher than the vast majority of simulated values, we can conclude that there is a difference in favorites.\n",
    "\n",
    "The same logic and technique can be applied to test for a difference in least favorites between the two groups."
   ]
  },
  {
   "cell_type": "code",
   "execution_count": null,
   "metadata": {
    "collapsed": false
   },
   "outputs": [],
   "source": [
    "# Print vote count differences\n",
    "print reg_favorite_cts - nonreg_favorite_cts\n",
    "print\n",
    "print reg_least_favorite_cts - nonreg_least_favorite_cts"
   ]
  },
  {
   "cell_type": "code",
   "execution_count": null,
   "metadata": {
    "collapsed": false
   },
   "outputs": [],
   "source": [
    "# Calculate the observed max absolute difference\n",
    "favorite_max_abs_diff = max(abs(reg_favorite_cts - nonreg_favorite_cts))\n",
    "least_favorite_max_abs_diff = max(abs(reg_least_favorite_cts - nonreg_least_favorite_cts))\n",
    "print 'Actual Max Absolute Difference'\n",
    "print 'favorite: ' + str(favorite_max_abs_diff)\n",
    "print 'least favorite: ' + str(least_favorite_max_abs_diff)"
   ]
  },
  {
   "cell_type": "code",
   "execution_count": null,
   "metadata": {
    "collapsed": true
   },
   "outputs": [],
   "source": [
    "# Run Monte Carlo simulations\n",
    "def monte_carlo_max_votes(varieties, n):\n",
    "    sample = np.random.choice(varieties, size=n, replace=True)  # sample n iid votes\n",
    "    sample = pd.Series(sample)\n",
    "    max_votes = np.max(sample.value_counts())\n",
    "    return max_votes\n",
    "\n",
    "n = df.shape[0]\n",
    "N = 10000\n",
    "sims = pd.Series([monte_carlo_max_votes(varieties, n) for _ in range(N)])"
   ]
  },
  {
   "cell_type": "code",
   "execution_count": null,
   "metadata": {
    "collapsed": true
   },
   "outputs": [],
   "source": [
    "# Run permutation test simulations\n",
    "def permutation_test_max_abs_diff(votes, flags):\n",
    "    permuted_flags = np.random.choice(flags, size=len(flags), replace=False)  # randomize groups\n",
    "    flag1_cts = votes[permuted_flags].value_counts().sort_index()\n",
    "    flag0_cts = votes[np.logical_not(permuted_flags)].value_counts().sort_index()\n",
    "    max_abs_diff = max(abs(flag1_cts - flag0_cts))\n",
    "    return max_abs_diff\n",
    "\n",
    "flags = df.regular_flag\n",
    "N = 10000\n",
    "favorite_sims = pd.Series([permutation_test_max_abs_diff(df.favorite, flags) for _ in range(N)])\n",
    "least_favorite_sims = pd.Series([permutation_test_max_abs_diff(df.least_favorite, flags) for _ in range(N)])"
   ]
  },
  {
   "cell_type": "code",
   "execution_count": null,
   "metadata": {
    "collapsed": true
   },
   "outputs": [],
   "source": [
    "def perm_test_barplot(ax, sims_table, ymax=None):\n",
    "    left_edge = np.array(sims_table.index) - 0.5\n",
    "    width = 1\n",
    "    \n",
    "    ax.bar(left_edge, sims_table, width, color='gray')\n",
    "    \n",
    "    xmax = max(sims_table.index) + 0.5\n",
    "    ax.set_xlim([-0.5, xmax])\n",
    "    \n",
    "    if not ymax:\n",
    "        ymax = sims_table.max() + sims_table.sum()/10\n",
    "    ax.set_ylim([0, ymax])    "
   ]
  },
  {
   "cell_type": "code",
   "execution_count": null,
   "metadata": {
    "collapsed": false
   },
   "outputs": [],
   "source": [
    "# Plot histograms of simulated values\n",
    "xmax = max([favorite_sims.max(), least_favorite_sims.max()])\n",
    "values = np.arange(xmax+1)\n",
    "left_edge = values - 0.5\n",
    "\n",
    "favorite_sims_table = pd.Categorical(favorite_sims, categories = values).value_counts().sort_index()\n",
    "least_favorite_sims_table = pd.Categorical(least_favorite_sims, categories = values).value_counts().sort_index()\n",
    "ymax = max([favorite_sims_table.max(), least_favorite_sims_table.max()]) + N/10\n",
    "\n",
    "fig = plt.figure(figsize=(16, 6))\n",
    "ax1 = fig.add_subplot(121)\n",
    "ax1.set_title('Favorite')\n",
    "perm_test_barplot(ax1, favorite_sims_table, ymax)\n",
    "ax1.vlines(favorite_max_abs_diff, 0, ymax, linewidth=3.0,\n",
    "           colors='blue', linestyles='dashed')\n",
    "ax2 = fig.add_subplot(122)\n",
    "ax2.set_title('Least Favorite')\n",
    "perm_test_barplot(ax2, least_favorite_sims_table, ymax)\n",
    "ax2.vlines(least_favorite_max_abs_diff, 0, ymax, linewidth=3.0,\n",
    "           colors='orange', linestyles='dashdot')\n",
    "plt.show()"
   ]
  },
  {
   "cell_type": "code",
   "execution_count": null,
   "metadata": {
    "collapsed": false
   },
   "outputs": [],
   "source": [
    "# Calculate p-values\n",
    "print np.mean(favorite_sims >= favorite_max_abs_diff)\n",
    "print np.mean(least_favorite_sims >= least_favorite_max_abs_diff)"
   ]
  },
  {
   "cell_type": "markdown",
   "metadata": {
    "collapsed": true
   },
   "source": [
    "###Experience Level Conclusions\n",
    "\n",
    "Favorite: Hummus variety B had the largest difference in favorite votes at -3. Variety B was more popular among non-regular hummus eaters. \n",
    "\n",
    "Least Favorite: Hummus varieties E and F tied for largest difference in least favorite votes at -3 and 3, respectively. Variety E was more disliked among non-regular hummus eaters, and variety F was more disliked among regular hummus eaters.\n",
    "\n",
    "However, based on the permutation tests, these differences are not statistically significant (p=0.64, p=0.66). There is no evidence of a difference in either favorite or least favorite preferences between hummus experience levels."
   ]
  },
  {
   "cell_type": "markdown",
   "metadata": {},
   "source": [
    "##APPENDIX - Hummus Key"
   ]
  },
  {
   "cell_type": "markdown",
   "metadata": {},
   "source": [
    "For those of you who attended the hummus tasting, you might be wondering which hummus was which. Luckily, the PyLadies organizers recorded the hummus key."
   ]
  },
  {
   "cell_type": "code",
   "execution_count": null,
   "metadata": {
    "collapsed": false
   },
   "outputs": [],
   "source": [
    "# Read in key\n",
    "# Note: assumes data file is in same directory as notebook\n",
    "key_df = pd.read_csv('hummus_key.csv')"
   ]
  },
  {
   "cell_type": "code",
   "execution_count": null,
   "metadata": {
    "collapsed": false
   },
   "outputs": [],
   "source": [
    "# Print key\n",
    "key_df"
   ]
  },
  {
   "cell_type": "markdown",
   "metadata": {},
   "source": [
    "My favorite hummus variety was A, followed by B. My least favorite was G, followed by F. Here is what I recall about them.\n",
    "* A (Sabra) was mildly tangy.\n",
    "* B (Penny's Creamy) had a strong lemon flavor.\n",
    "* F (Hummusphere) was smokey.\n",
    "* G (homemade) had a prominent olive oil flavor."
   ]
  }
 ],
 "metadata": {
  "kernelspec": {
   "display_name": "Python 2",
   "language": "python",
   "name": "python2"
  },
  "language_info": {
   "codemirror_mode": {
    "name": "ipython",
    "version": 2
   },
   "file_extension": ".py",
   "mimetype": "text/x-python",
   "name": "python",
   "nbconvert_exporter": "python",
   "pygments_lexer": "ipython2",
   "version": "2.7.12"
  }
 },
 "nbformat": 4,
 "nbformat_minor": 0
}
